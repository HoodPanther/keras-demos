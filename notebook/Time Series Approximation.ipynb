{
 "cells": [
  {
   "cell_type": "markdown",
   "metadata": {},
   "source": [
    "In this demo, we will try to model time series using LSTMs. We will try two kind of time series, a periodic time series (generated using sine function) and a transcendental time series (generated using exponential function)"
   ]
  },
  {
   "cell_type": "code",
   "execution_count": 1,
   "metadata": {
    "collapsed": false
   },
   "outputs": [],
   "source": [
    "import numpy as np\n",
    "import matplotlib.pyplot as plt\n",
    "# import math\n",
    "# from sklearn.metrics import mean_squared_error"
   ]
  },
  {
   "cell_type": "code",
   "execution_count": 2,
   "metadata": {
    "collapsed": false
   },
   "outputs": [],
   "source": [
    "# function to be modelled\n",
    "f = np.sin"
   ]
  },
  {
   "cell_type": "code",
   "execution_count": 3,
   "metadata": {
    "collapsed": false
   },
   "outputs": [],
   "source": [
    "number_of_period = 10\n",
    "number_of_points_per_period = 20"
   ]
  },
  {
   "cell_type": "code",
   "execution_count": 4,
   "metadata": {
    "collapsed": false
   },
   "outputs": [
    {
     "data": {
      "image/png": "[encoded data removed]",
      "text/plain": [
       "<matplotlib.figure.Figure at 0x7f6cf5cfec18>"
      ]
     },
     "metadata": {},
     "output_type": "display_data"
    }
   ],
   "source": [
    "x = np.linspace(-number_of_period*np.pi, number_of_period*np.pi, number_of_points_per_period)\n",
    "X = np.linspace(-number_of_period*np.pi, number_of_period*np.pi, 1000)\n",
    "plt.plot(X, np.sin(X), 'b')\n",
    "plt.plot(x, np.sin(x), 'ro')\n",
    "plt.xlabel('Angle [rad]')\n",
    "plt.ylabel('sin(x)')\n",
    "plt.axis('tight')\n",
    "plt.show()"
   ]
  },
  {
   "cell_type": "markdown",
   "metadata": {},
   "source": [
    "We will try to predict the series corresponding to sine values of X, given the previous sine values."
   ]
  },
  {
   "cell_type": "code",
   "execution_count": 5,
   "metadata": {
    "collapsed": true
   },
   "outputs": [],
   "source": [
    "np.random.seed(42)\n",
    "dataset = np.sin(X)"
   ]
  },
  {
   "cell_type": "code",
   "execution_count": 6,
   "metadata": {
    "collapsed": false
   },
   "outputs": [],
   "source": [
    "# train-test split\n",
    "train_size = int(0.8*len(dataset))\n",
    "train, test = dataset[0:train_size], dataset[train_size:len(dataset)]"
   ]
  },
  {
   "cell_type": "code",
   "execution_count": 7,
   "metadata": {
    "collapsed": false
   },
   "outputs": [
    {
     "data": {
      "text/plain": [
       "800"
      ]
     },
     "execution_count": 7,
     "metadata": {},
     "output_type": "execute_result"
    }
   ],
   "source": [
    "len(train)"
   ]
  },
  {
   "cell_type": "code",
   "execution_count": 8,
   "metadata": {
    "collapsed": true
   },
   "outputs": [],
   "source": [
    "# convert a time series array into matrix of previous values\n",
    "def create_dataset(dataset, look_back=1):\n",
    "    data_x, data_y = [], []\n",
    "    for i in range(len(dataset)-look_back-1):\n",
    "        a = dataset[i:(i+look_back)]\n",
    "        data_x.append(a)\n",
    "        data_y.append(dataset[i + look_back])\n",
    "    return np.array(data_x), np.array(data_y)"
   ]
  },
  {
   "cell_type": "code",
   "execution_count": 9,
   "metadata": {
    "collapsed": false
   },
   "outputs": [],
   "source": [
    "look_back = 1\n",
    "trainX, trainY = create_dataset(train, look_back)\n",
    "testX, testY = create_dataset(test, look_back)"
   ]
  },
  {
   "cell_type": "code",
   "execution_count": 10,
   "metadata": {
    "collapsed": false
   },
   "outputs": [
    {
     "data": {
      "text/plain": [
       "(1.2246467991473533e-15, 0.062853290044483701, 0.12545803018029833)"
      ]
     },
     "execution_count": 10,
     "metadata": {},
     "output_type": "execute_result"
    }
   ],
   "source": [
    "train[0], train[1], train[2]"
   ]
  },
  {
   "cell_type": "code",
   "execution_count": 11,
   "metadata": {
    "collapsed": false
   },
   "outputs": [
    {
     "data": {
      "text/plain": [
       "(array([  1.22464680e-15]), array([ 0.06285329]), array([ 0.12545803]))"
      ]
     },
     "execution_count": 11,
     "metadata": {},
     "output_type": "execute_result"
    }
   ],
   "source": [
    "trainX[0], trainX[1], trainX[2]"
   ]
  },
  {
   "cell_type": "code",
   "execution_count": 12,
   "metadata": {
    "collapsed": false
   },
   "outputs": [
    {
     "data": {
      "text/plain": [
       "(0.062853290044483701, 0.12545803018029833, 0.18756665337583991)"
      ]
     },
     "execution_count": 12,
     "metadata": {},
     "output_type": "execute_result"
    }
   ],
   "source": [
    "trainY[0], trainY[1], trainY[2]"
   ]
  },
  {
   "cell_type": "code",
   "execution_count": 13,
   "metadata": {
    "collapsed": false
   },
   "outputs": [
    {
     "data": {
      "text/plain": [
       "(798, 1)"
      ]
     },
     "execution_count": 13,
     "metadata": {},
     "output_type": "execute_result"
    }
   ],
   "source": [
    "trainX.shape"
   ]
  },
  {
   "cell_type": "code",
   "execution_count": 14,
   "metadata": {
    "collapsed": false
   },
   "outputs": [],
   "source": [
    "# reshape input\n",
    "trainX = np.reshape(trainX, (trainX.shape[0], 1, trainX.shape[1]))\n",
    "testX = np.reshape(testX, (testX.shape[0], 1, testX.shape[1]))"
   ]
  },
  {
   "cell_type": "code",
   "execution_count": 15,
   "metadata": {
    "collapsed": false
   },
   "outputs": [
    {
     "name": "stderr",
     "output_type": "stream",
     "text": [
      "Using TensorFlow backend.\n"
     ]
    }
   ],
   "source": [
    "from keras.layers import Dense, LSTM\n",
    "from keras.models import Sequential"
   ]
  },
  {
   "cell_type": "code",
   "execution_count": 16,
   "metadata": {
    "collapsed": false
   },
   "outputs": [],
   "source": [
    "# create and fit the LSTM network\n",
    "model = Sequential()\n",
    "model.add(LSTM(4, input_dim=look_back))\n",
    "model.add(Dense(1))\n",
    "model.compile(loss='mean_squared_error', optimizer='adam')"
   ]
  },
  {
   "cell_type": "code",
   "execution_count": 17,
   "metadata": {
    "collapsed": false
   },
   "outputs": [
    {
     "name": "stdout",
     "output_type": "stream",
     "text": [
      "Train on 798 samples, validate on 198 samples\n",
      "Epoch 1/5\n",
      "798/798 [==============================] - 3s - loss: 0.0668 - val_loss: 0.0037\n",
      "Epoch 2/5\n",
      "798/798 [==============================] - 3s - loss: 0.0036 - val_loss: 0.0034\n",
      "Epoch 3/5\n",
      "798/798 [==============================] - 3s - loss: 0.0034 - val_loss: 0.0032\n",
      "Epoch 4/5\n",
      "798/798 [==============================] - 3s - loss: 0.0031 - val_loss: 0.0030\n",
      "Epoch 5/5\n",
      "798/798 [==============================] - 3s - loss: 0.0030 - val_loss: 0.0028\n"
     ]
    },
    {
     "data": {
      "text/plain": [
       "<keras.callbacks.History at 0x7f6ce32bcf60>"
      ]
     },
     "execution_count": 17,
     "metadata": {},
     "output_type": "execute_result"
    }
   ],
   "source": [
    "model.fit(trainX, trainY, nb_epoch=5, batch_size=1, validation_data=(testX, testY))"
   ]
  },
  {
   "cell_type": "code",
   "execution_count": 18,
   "metadata": {
    "collapsed": true
   },
   "outputs": [],
   "source": [
    "trainPredict = model.predict(trainX)\n",
    "testPredict = model.predict(testX)"
   ]
  },
  {
   "cell_type": "code",
   "execution_count": 19,
   "metadata": {
    "collapsed": false
   },
   "outputs": [
    {
     "data": {
      "text/plain": [
       "798"
      ]
     },
     "execution_count": 19,
     "metadata": {},
     "output_type": "execute_result"
    }
   ],
   "source": [
    "len(trainPredict)"
   ]
  },
  {
   "cell_type": "code",
   "execution_count": 20,
   "metadata": {
    "collapsed": false
   },
   "outputs": [
    {
     "data": {
      "image/png": "[encoded data removed]",
      "text/plain": [
       "<matplotlib.figure.Figure at 0x7f6ce30fdcf8>"
      ]
     },
     "metadata": {},
     "output_type": "display_data"
    }
   ],
   "source": [
    "x = np.linspace(-number_of_period*np.pi, number_of_period*np.pi, 1000)[:len(trainPredict)]\n",
    "X = np.linspace(-number_of_period*np.pi, number_of_period*np.pi, 1000)\n",
    "plt.plot(X, np.sin(X), 'b')\n",
    "plt.plot(x, trainPredict, 'r')\n",
    "plt.xlabel('Angle [rad]')\n",
    "plt.ylabel('sin(x)')\n",
    "plt.axis('tight')\n",
    "plt.show()"
   ]
  },
  {
   "cell_type": "markdown",
   "metadata": {},
   "source": [
    "Let us increase the lookback size"
   ]
  },
  {
   "cell_type": "code",
   "execution_count": 21,
   "metadata": {
    "collapsed": false
   },
   "outputs": [
    {
     "name": "stdout",
     "output_type": "stream",
     "text": [
      "(794, 1, 5)\n"
     ]
    }
   ],
   "source": [
    "look_back = 5\n",
    "trainX, trainY = create_dataset(train, look_back)\n",
    "testX, testY = create_dataset(test, look_back)\n",
    "# reshape input\n",
    "trainX = np.reshape(trainX, (trainX.shape[0], 1, trainX.shape[1]))\n",
    "testX = np.reshape(testX, (testX.shape[0], 1, testX.shape[1]))\n",
    "print(trainX.shape)"
   ]
  },
  {
   "cell_type": "code",
   "execution_count": 22,
   "metadata": {
    "collapsed": false
   },
   "outputs": [
    {
     "name": "stdout",
     "output_type": "stream",
     "text": [
      "Train on 794 samples, validate on 194 samples\n",
      "Epoch 1/5\n",
      "794/794 [==============================] - 4s - loss: 0.1264 - val_loss: 0.0141\n",
      "Epoch 2/5\n",
      "794/794 [==============================] - 4s - loss: 0.0109 - val_loss: 0.0076\n",
      "Epoch 3/5\n",
      "794/794 [==============================] - 4s - loss: 0.0051 - val_loss: 0.0028\n",
      "Epoch 4/5\n",
      "794/794 [==============================] - 4s - loss: 0.0016 - val_loss: 7.1983e-04\n",
      "Epoch 5/5\n",
      "794/794 [==============================] - 3s - loss: 4.7645e-04 - val_loss: 3.0674e-04\n"
     ]
    },
    {
     "data": {
      "text/plain": [
       "<keras.callbacks.History at 0x7f6ce23089e8>"
      ]
     },
     "execution_count": 22,
     "metadata": {},
     "output_type": "execute_result"
    }
   ],
   "source": [
    "# create and fit the LSTM network\n",
    "model = Sequential()\n",
    "model.add(LSTM(4, input_dim=look_back))\n",
    "model.add(Dense(1))\n",
    "model.compile(loss='mean_squared_error', optimizer='adam')\n",
    "model.fit(trainX, trainY, nb_epoch=5, batch_size=1, validation_data=(testX, testY))"
   ]
  },
  {
   "cell_type": "code",
   "execution_count": 23,
   "metadata": {
    "collapsed": false
   },
   "outputs": [
    {
     "data": {
      "image/png": "[encoded data removed]",
      "text/plain": [
       "<matplotlib.figure.Figure at 0x7f6ce216edd8>"
      ]
     },
     "metadata": {},
     "output_type": "display_data"
    }
   ],
   "source": [
    "x = np.linspace(-number_of_period*np.pi, number_of_period*np.pi, 1000)[:len(trainPredict)]\n",
    "X = np.linspace(-number_of_period*np.pi, number_of_period*np.pi, 1000)\n",
    "plt.plot(X, np.sin(X), 'b')\n",
    "plt.plot(x, trainPredict, 'r')\n",
    "plt.xlabel('Angle [rad]')\n",
    "plt.ylabel('sin(x)')\n",
    "plt.axis('tight')\n",
    "plt.show()"
   ]
  },
  {
   "cell_type": "code",
   "execution_count": 24,
   "metadata": {
    "collapsed": true
   },
   "outputs": [],
   "source": [
    "f = np.exp"
   ]
  },
  {
   "cell_type": "code",
   "execution_count": 25,
   "metadata": {
    "collapsed": false
   },
   "outputs": [
    {
     "data": {
      "text/plain": [
       "2.6881171418161356e+43"
      ]
     },
     "execution_count": 25,
     "metadata": {},
     "output_type": "execute_result"
    }
   ],
   "source": [
    "f(100)"
   ]
  },
  {
   "cell_type": "code",
   "execution_count": 26,
   "metadata": {
    "collapsed": true
   },
   "outputs": [],
   "source": [
    "number_of_points = 20"
   ]
  },
  {
   "cell_type": "code",
   "execution_count": 27,
   "metadata": {
    "collapsed": false
   },
   "outputs": [
    {
     "data": {
      "image/png": "[encoded data removed]",
      "text/plain": [
       "<matplotlib.figure.Figure at 0x7f6ce216ec88>"
      ]
     },
     "metadata": {},
     "output_type": "display_data"
    }
   ],
   "source": [
    "plt.close()\n",
    "x = np.linspace(-10, 20, number_of_points_per_period)\n",
    "X = np.linspace(-10, 20, 1000)\n",
    "plt.plot(X, f(X), 'b')\n",
    "plt.plot(x, f(x), 'r')\n",
    "plt.xlabel('Angle [rad]')\n",
    "plt.ylabel('sin(x)')\n",
    "plt.axis('tight')\n",
    "plt.show()"
   ]
  },
  {
   "cell_type": "code",
   "execution_count": 28,
   "metadata": {
    "collapsed": false
   },
   "outputs": [],
   "source": [
    "dataset = f(X)\n",
    "# train-test split\n",
    "train_size = int(0.8*len(dataset))\n",
    "train, test = dataset[0:train_size], dataset[train_size:len(dataset)]"
   ]
  },
  {
   "cell_type": "code",
   "execution_count": 29,
   "metadata": {
    "collapsed": false
   },
   "outputs": [
    {
     "data": {
      "text/plain": [
       "1000"
      ]
     },
     "execution_count": 29,
     "metadata": {},
     "output_type": "execute_result"
    }
   ],
   "source": [
    "len(dataset)"
   ]
  },
  {
   "cell_type": "code",
   "execution_count": 30,
   "metadata": {
    "collapsed": false
   },
   "outputs": [
    {
     "name": "stdout",
     "output_type": "stream",
     "text": [
      "(789, 1, 10)\n"
     ]
    }
   ],
   "source": [
    "look_back = 10\n",
    "trainX, trainY = create_dataset(train, look_back)\n",
    "testX, testY = create_dataset(test, look_back)\n",
    "# reshape input\n",
    "trainX = np.reshape(trainX, (trainX.shape[0], 1, trainX.shape[1]))\n",
    "testX = np.reshape(testX, (testX.shape[0], 1, testX.shape[1]))\n",
    "print(trainX.shape)"
   ]
  },
  {
   "cell_type": "code",
   "execution_count": 31,
   "metadata": {
    "collapsed": false
   },
   "outputs": [
    {
     "name": "stdout",
     "output_type": "stream",
     "text": [
      "Train on 789 samples, validate on 189 samples\n",
      "Epoch 1/5\n",
      "789/789 [==============================] - 5s - loss: 29258843299.1298 - val_loss: 20119605448825884.0000\n",
      "Epoch 2/5\n",
      "789/789 [==============================] - 4s - loss: 29258720411.7025 - val_loss: 20119605402624736.0000\n",
      "Epoch 3/5\n",
      "789/789 [==============================] - 6s - loss: 29258643702.8705 - val_loss: 20119605384907132.0000\n",
      "Epoch 4/5\n",
      "789/789 [==============================] - 5s - loss: 29258566938.4160 - val_loss: 20119605181058964.0000\n",
      "Epoch 5/5\n",
      "789/789 [==============================] - 3s - loss: 29258490905.1003 - val_loss: 20119605165552244.0000\n"
     ]
    },
    {
     "data": {
      "text/plain": [
       "<keras.callbacks.History at 0x7f6ce118c748>"
      ]
     },
     "execution_count": 31,
     "metadata": {},
     "output_type": "execute_result"
    }
   ],
   "source": [
    "# create and fit the LSTM network\n",
    "model = Sequential()\n",
    "model.add(LSTM(4, input_dim=look_back))\n",
    "model.add(Dense(1))\n",
    "model.compile(loss='mean_squared_error', optimizer='adam')\n",
    "model.fit(trainX, trainY, nb_epoch=5, batch_size=1, validation_data=(testX, testY))"
   ]
  },
  {
   "cell_type": "code",
   "execution_count": 32,
   "metadata": {
    "collapsed": false
   },
   "outputs": [
    {
     "name": "stdout",
     "output_type": "stream",
     "text": [
      "Train on 789 samples, validate on 189 samples\n",
      "Epoch 1/5\n",
      "789/789 [==============================] - 6s - loss: 29258459789.5703 - val_loss: 20119604310432968.0000\n",
      "Epoch 2/5\n",
      "789/789 [==============================] - 5s - loss: 29258097475.6435 - val_loss: 20119605164664560.0000\n",
      "Epoch 3/5\n",
      "789/789 [==============================] - 7s - loss: 29257943154.4086 - val_loss: 20119604227255648.0000\n",
      "Epoch 4/5\n",
      "789/789 [==============================] - 5s - loss: 29257588246.8634 - val_loss: 20119601859892824.0000\n",
      "Epoch 5/5\n",
      "789/789 [==============================] - 4s - loss: 29257141981.3606 - val_loss: 20119601542472504.0000\n"
     ]
    },
    {
     "data": {
      "text/plain": [
       "<keras.callbacks.History at 0x7f6ce043da90>"
      ]
     },
     "execution_count": 32,
     "metadata": {},
     "output_type": "execute_result"
    }
   ],
   "source": [
    "from keras.optimizers import Adam\n",
    "model = Sequential()\n",
    "model.add(LSTM(128, input_dim=look_back))\n",
    "model.add(Dense(1))\n",
    "adam = Adam(lr=0.1, beta_1=0.9, beta_2=0.999, epsilon=1e-08, decay=0.01)\n",
    "model.compile(loss='mean_squared_error', optimizer=adam)\n",
    "model.fit(trainX, trainY, nb_epoch=5, batch_size=1, validation_data=(testX, testY))"
   ]
  },
  {
   "cell_type": "code",
   "execution_count": 33,
   "metadata": {
    "collapsed": false
   },
   "outputs": [
    {
     "name": "stdout",
     "output_type": "stream",
     "text": [
      "Train on 789 samples, validate on 189 samples\n",
      "Epoch 1/5\n",
      "789/789 [==============================] - 5s - loss: 27072245573.6704 - val_loss: 20111749399635524.0000\n",
      "Epoch 2/5\n",
      "789/789 [==============================] - 4s - loss: 26856179982.4856 - val_loss: 20111993436103912.0000\n",
      "Epoch 3/5\n",
      "789/789 [==============================] - 7s - loss: 26831243375.3546 - val_loss: 20111553216540432.0000\n",
      "Epoch 4/5\n",
      "789/789 [==============================] - 6s - loss: 26823764139.0539 - val_loss: 20111385084646740.0000\n",
      "Epoch 5/5\n",
      "789/789 [==============================] - 6s - loss: 26810477668.8825 - val_loss: 20111327650388760.0000\n"
     ]
    },
    {
     "data": {
      "text/plain": [
       "<keras.callbacks.History at 0x7f6cc33fee80>"
      ]
     },
     "execution_count": 33,
     "metadata": {},
     "output_type": "execute_result"
    }
   ],
   "source": [
    "from keras.optimizers import Adam\n",
    "model = Sequential()\n",
    "model.add(LSTM(128, input_dim=look_back))\n",
    "model.add(Dense(1))\n",
    "adam = Adam(lr=100, beta_1=0.9, beta_2=0.999, epsilon=1e-08, decay=0.01)\n",
    "model.compile(loss='mean_squared_error', optimizer=adam)\n",
    "model.fit(trainX, trainY, nb_epoch=5, batch_size=1, validation_data=(testX, testY))"
   ]
  },
  {
   "cell_type": "code",
   "execution_count": 34,
   "metadata": {
    "collapsed": false
   },
   "outputs": [
    {
     "name": "stdout",
     "output_type": "stream",
     "text": [
      "Train on 789 samples, validate on 189 samples\n",
      "Epoch 1/5\n",
      "789/789 [==============================] - 4s - loss: 32539645158.3865 - val_loss: 20114187921012964.0000\n",
      "Epoch 2/5\n",
      "789/789 [==============================] - 4s - loss: 28745506793.4496 - val_loss: 20106352876257628.0000\n",
      "Epoch 3/5\n",
      "789/789 [==============================] - 5s - loss: 28699035375.9490 - val_loss: 20120055450224760.0000\n",
      "Epoch 4/5\n",
      "789/789 [==============================] - 6s - loss: 27882852734.9969 - val_loss: 20110732077354468.0000\n",
      "Epoch 5/5\n",
      "789/789 [==============================] - 5s - loss: 27556250001.6570 - val_loss: 20105960024518504.0000\n"
     ]
    },
    {
     "data": {
      "text/plain": [
       "<keras.callbacks.History at 0x7f6cc23d2a90>"
      ]
     },
     "execution_count": 34,
     "metadata": {},
     "output_type": "execute_result"
    }
   ],
   "source": [
    "from keras.optimizers import Adam\n",
    "model = Sequential()\n",
    "model.add(LSTM(128, input_dim=look_back))\n",
    "model.add(Dense(1))\n",
    "adam = Adam(lr=10000, beta_1=0.9, beta_2=0.999, epsilon=1e-08, decay=0.01)\n",
    "model.compile(loss='mean_squared_error', optimizer=adam)\n",
    "model.fit(trainX, trainY, nb_epoch=5, batch_size=1, validation_data=(testX, testY))"
   ]
  },
  {
   "cell_type": "code",
   "execution_count": null,
   "metadata": {
    "collapsed": false
   },
   "outputs": [
    {
     "name": "stdout",
     "output_type": "stream",
     "text": [
      "Train on 789 samples, validate on 189 samples\n",
      "Epoch 1/5\n",
      "789/789 [==============================] - 6s - loss: 5557768495483.7451 - val_loss: 20097285755936724.0000\n",
      "Epoch 2/5\n",
      "789/789 [==============================] - 6s - loss: 47645419435.4168 - val_loss: 20109587756963156.0000\n",
      "Epoch 3/5\n",
      "379/789 [=============>................] - ETA: 3s - loss: 63554886597.6832"
     ]
    }
   ],
   "source": [
    "from keras.optimizers import Adam\n",
    "model = Sequential()\n",
    "model.add(LSTM(128, input_dim=look_back))\n",
    "model.add(Dense(1))\n",
    "adam = Adam(lr=1000000, beta_1=0.9, beta_2=0.999, epsilon=1e-08, decay=0.01)\n",
    "model.compile(loss='mean_squared_error', optimizer=adam)\n",
    "model.fit(trainX, trainY, nb_epoch=5, batch_size=1, validation_data=(testX, testY))"
   ]
  },
  {
   "cell_type": "code",
   "execution_count": null,
   "metadata": {
    "collapsed": true
   },
   "outputs": [],
   "source": []
  }
 ],
 "metadata": {
  "kernelspec": {
   "display_name": "Python 3",
   "language": "python",
   "name": "python3"
  },
  "language_info": {
   "codemirror_mode": {
    "name": "ipython",
    "version": 3
   },
   "file_extension": ".py",
   "mimetype": "text/x-python",
   "name": "python",
   "nbconvert_exporter": "python",
   "pygments_lexer": "ipython3",
   "version": "3.4.3"
  }
 },
 "nbformat": 4,
 "nbformat_minor": 1
}
